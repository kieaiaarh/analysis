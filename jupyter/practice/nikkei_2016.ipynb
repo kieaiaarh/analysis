{
 "cells": [
  {
   "cell_type": "code",
   "execution_count": 195,
   "metadata": {
    "collapsed": false
   },
   "outputs": [],
   "source": [
    "import pandas as pd\n",
    "import numpy as np\n",
    "import matplotlib.pyplot as plt"
   ]
  },
  {
   "cell_type": "code",
   "execution_count": 196,
   "metadata": {
    "collapsed": true
   },
   "outputs": [],
   "source": [
    " s = pd.Series([1,3,5,np.nan,6,8])"
   ]
  },
  {
   "cell_type": "code",
   "execution_count": 197,
   "metadata": {
    "collapsed": false
   },
   "outputs": [
    {
     "data": {
      "text/plain": [
       "0    1.0\n",
       "1    3.0\n",
       "2    5.0\n",
       "3    NaN\n",
       "4    6.0\n",
       "5    8.0\n",
       "dtype: float64"
      ]
     },
     "execution_count": 197,
     "metadata": {},
     "output_type": "execute_result"
    }
   ],
   "source": [
    "s"
   ]
  },
  {
   "cell_type": "code",
   "execution_count": 198,
   "metadata": {
    "collapsed": false
   },
   "outputs": [
    {
     "data": {
      "text/plain": [
       "DatetimeIndex(['2013-01-01', '2013-01-02', '2013-01-03', '2013-01-04',\n",
       "               '2013-01-05', '2013-01-06'],\n",
       "              dtype='datetime64[ns]', freq='D')"
      ]
     },
     "execution_count": 198,
     "metadata": {},
     "output_type": "execute_result"
    }
   ],
   "source": [
    "dates = pd.date_range('20130101', periods=6)\n",
    "dates"
   ]
  },
  {
   "cell_type": "code",
   "execution_count": 199,
   "metadata": {
    "collapsed": false
   },
   "outputs": [
    {
     "data": {
      "text/plain": [
       "array([[-0.32811455,  0.28052988,  2.19170213,  0.0298653 ],\n",
       "       [-1.25862988, -0.32453593,  0.87302869, -1.35670161],\n",
       "       [-1.90710509, -0.09229906, -0.07267597,  0.146808  ],\n",
       "       [-0.72840881,  0.23898223,  0.33368787,  0.31897925],\n",
       "       [ 0.56742465, -1.33327342, -1.39274149,  2.55052659],\n",
       "       [ 0.0361067 , -0.47034714,  0.69152267,  0.76134562]])"
      ]
     },
     "execution_count": 199,
     "metadata": {},
     "output_type": "execute_result"
    }
   ],
   "source": [
    "np.random.randn(6,4)"
   ]
  },
  {
   "cell_type": "code",
   "execution_count": 200,
   "metadata": {
    "collapsed": false
   },
   "outputs": [
    {
     "data": {
      "text/html": [
       "<div>\n",
       "<table border=\"1\" class=\"dataframe\">\n",
       "  <thead>\n",
       "    <tr style=\"text-align: right;\">\n",
       "      <th></th>\n",
       "      <th>A</th>\n",
       "      <th>B</th>\n",
       "      <th>C</th>\n",
       "      <th>D</th>\n",
       "    </tr>\n",
       "  </thead>\n",
       "  <tbody>\n",
       "    <tr>\n",
       "      <th>2013-01-01</th>\n",
       "      <td>0.736452</td>\n",
       "      <td>1.267368</td>\n",
       "      <td>0.134238</td>\n",
       "      <td>-0.130367</td>\n",
       "    </tr>\n",
       "    <tr>\n",
       "      <th>2013-01-02</th>\n",
       "      <td>-0.384739</td>\n",
       "      <td>0.113362</td>\n",
       "      <td>-0.338618</td>\n",
       "      <td>0.064892</td>\n",
       "    </tr>\n",
       "    <tr>\n",
       "      <th>2013-01-03</th>\n",
       "      <td>-0.846161</td>\n",
       "      <td>2.027259</td>\n",
       "      <td>0.530861</td>\n",
       "      <td>0.534587</td>\n",
       "    </tr>\n",
       "    <tr>\n",
       "      <th>2013-01-04</th>\n",
       "      <td>0.367446</td>\n",
       "      <td>0.545569</td>\n",
       "      <td>-0.909681</td>\n",
       "      <td>1.146014</td>\n",
       "    </tr>\n",
       "    <tr>\n",
       "      <th>2013-01-05</th>\n",
       "      <td>-0.323459</td>\n",
       "      <td>0.699540</td>\n",
       "      <td>-1.342635</td>\n",
       "      <td>-0.351160</td>\n",
       "    </tr>\n",
       "    <tr>\n",
       "      <th>2013-01-06</th>\n",
       "      <td>1.098581</td>\n",
       "      <td>0.571586</td>\n",
       "      <td>-0.199023</td>\n",
       "      <td>0.885765</td>\n",
       "    </tr>\n",
       "  </tbody>\n",
       "</table>\n",
       "</div>"
      ],
      "text/plain": [
       "                   A         B         C         D\n",
       "2013-01-01  0.736452  1.267368  0.134238 -0.130367\n",
       "2013-01-02 -0.384739  0.113362 -0.338618  0.064892\n",
       "2013-01-03 -0.846161  2.027259  0.530861  0.534587\n",
       "2013-01-04  0.367446  0.545569 -0.909681  1.146014\n",
       "2013-01-05 -0.323459  0.699540 -1.342635 -0.351160\n",
       "2013-01-06  1.098581  0.571586 -0.199023  0.885765"
      ]
     },
     "execution_count": 200,
     "metadata": {},
     "output_type": "execute_result"
    }
   ],
   "source": [
    "# 行：index, 列：column\n",
    "df = pd.DataFrame(np.random.randn(6,4), index=dates, columns=list('ABCD'))\n",
    "df"
   ]
  },
  {
   "cell_type": "code",
   "execution_count": 201,
   "metadata": {
    "collapsed": false
   },
   "outputs": [
    {
     "data": {
      "text/html": [
       "<div>\n",
       "<table border=\"1\" class=\"dataframe\">\n",
       "  <thead>\n",
       "    <tr style=\"text-align: right;\">\n",
       "      <th></th>\n",
       "      <th>A</th>\n",
       "      <th>B</th>\n",
       "      <th>C</th>\n",
       "      <th>D</th>\n",
       "      <th>E</th>\n",
       "      <th>F</th>\n",
       "    </tr>\n",
       "  </thead>\n",
       "  <tbody>\n",
       "    <tr>\n",
       "      <th>0</th>\n",
       "      <td>1.0</td>\n",
       "      <td>2013-01-02</td>\n",
       "      <td>1.0</td>\n",
       "      <td>3</td>\n",
       "      <td>test</td>\n",
       "      <td>foo</td>\n",
       "    </tr>\n",
       "    <tr>\n",
       "      <th>1</th>\n",
       "      <td>1.0</td>\n",
       "      <td>2013-01-02</td>\n",
       "      <td>1.0</td>\n",
       "      <td>3</td>\n",
       "      <td>train</td>\n",
       "      <td>foo</td>\n",
       "    </tr>\n",
       "    <tr>\n",
       "      <th>2</th>\n",
       "      <td>1.0</td>\n",
       "      <td>2013-01-02</td>\n",
       "      <td>1.0</td>\n",
       "      <td>3</td>\n",
       "      <td>test</td>\n",
       "      <td>foo</td>\n",
       "    </tr>\n",
       "    <tr>\n",
       "      <th>3</th>\n",
       "      <td>1.0</td>\n",
       "      <td>2013-01-02</td>\n",
       "      <td>1.0</td>\n",
       "      <td>3</td>\n",
       "      <td>train</td>\n",
       "      <td>foo</td>\n",
       "    </tr>\n",
       "  </tbody>\n",
       "</table>\n",
       "</div>"
      ],
      "text/plain": [
       "     A          B    C  D      E    F\n",
       "0  1.0 2013-01-02  1.0  3   test  foo\n",
       "1  1.0 2013-01-02  1.0  3  train  foo\n",
       "2  1.0 2013-01-02  1.0  3   test  foo\n",
       "3  1.0 2013-01-02  1.0  3  train  foo"
      ]
     },
     "execution_count": 201,
     "metadata": {},
     "output_type": "execute_result"
    }
   ],
   "source": [
    "df2 = pd.DataFrame({ 'A' : 1.,\n",
    "                                       'B' : pd.Timestamp('20130102'),\n",
    "                                       'C' : pd.Series(1,index=list(range(4)),dtype='float32'),\n",
    "                                       'D' : np.array([3] * 4,dtype='int32'),\n",
    "                                       'E' : pd.Categorical([\"test\",\"train\",\"test\",\"train\"]),\n",
    "                                       'F' : 'foo' })\n",
    "df2"
   ]
  },
  {
   "cell_type": "code",
   "execution_count": 202,
   "metadata": {
    "collapsed": false
   },
   "outputs": [
    {
     "data": {
      "text/plain": [
       "A           float64\n",
       "B    datetime64[ns]\n",
       "C           float32\n",
       "D             int32\n",
       "E          category\n",
       "F            object\n",
       "dtype: object"
      ]
     },
     "execution_count": 202,
     "metadata": {},
     "output_type": "execute_result"
    }
   ],
   "source": [
    "df2.dtypes"
   ]
  },
  {
   "cell_type": "code",
   "execution_count": 203,
   "metadata": {
    "collapsed": false
   },
   "outputs": [
    {
     "data": {
      "text/html": [
       "<div>\n",
       "<table border=\"1\" class=\"dataframe\">\n",
       "  <thead>\n",
       "    <tr style=\"text-align: right;\">\n",
       "      <th></th>\n",
       "      <th>A</th>\n",
       "      <th>B</th>\n",
       "      <th>C</th>\n",
       "      <th>D</th>\n",
       "    </tr>\n",
       "  </thead>\n",
       "  <tbody>\n",
       "    <tr>\n",
       "      <th>2013-01-06</th>\n",
       "      <td>1.098581</td>\n",
       "      <td>0.571586</td>\n",
       "      <td>-0.199023</td>\n",
       "      <td>0.885765</td>\n",
       "    </tr>\n",
       "    <tr>\n",
       "      <th>2013-01-05</th>\n",
       "      <td>-0.323459</td>\n",
       "      <td>0.699540</td>\n",
       "      <td>-1.342635</td>\n",
       "      <td>-0.351160</td>\n",
       "    </tr>\n",
       "    <tr>\n",
       "      <th>2013-01-04</th>\n",
       "      <td>0.367446</td>\n",
       "      <td>0.545569</td>\n",
       "      <td>-0.909681</td>\n",
       "      <td>1.146014</td>\n",
       "    </tr>\n",
       "    <tr>\n",
       "      <th>2013-01-03</th>\n",
       "      <td>-0.846161</td>\n",
       "      <td>2.027259</td>\n",
       "      <td>0.530861</td>\n",
       "      <td>0.534587</td>\n",
       "    </tr>\n",
       "    <tr>\n",
       "      <th>2013-01-02</th>\n",
       "      <td>-0.384739</td>\n",
       "      <td>0.113362</td>\n",
       "      <td>-0.338618</td>\n",
       "      <td>0.064892</td>\n",
       "    </tr>\n",
       "    <tr>\n",
       "      <th>2013-01-01</th>\n",
       "      <td>0.736452</td>\n",
       "      <td>1.267368</td>\n",
       "      <td>0.134238</td>\n",
       "      <td>-0.130367</td>\n",
       "    </tr>\n",
       "  </tbody>\n",
       "</table>\n",
       "</div>"
      ],
      "text/plain": [
       "                   A         B         C         D\n",
       "2013-01-06  1.098581  0.571586 -0.199023  0.885765\n",
       "2013-01-05 -0.323459  0.699540 -1.342635 -0.351160\n",
       "2013-01-04  0.367446  0.545569 -0.909681  1.146014\n",
       "2013-01-03 -0.846161  2.027259  0.530861  0.534587\n",
       "2013-01-02 -0.384739  0.113362 -0.338618  0.064892\n",
       "2013-01-01  0.736452  1.267368  0.134238 -0.130367"
      ]
     },
     "execution_count": 203,
     "metadata": {},
     "output_type": "execute_result"
    }
   ],
   "source": [
    " df.sort_index(ascending=False) #　インデックス(行)をソート"
   ]
  },
  {
   "cell_type": "code",
   "execution_count": 204,
   "metadata": {
    "collapsed": false
   },
   "outputs": [
    {
     "data": {
      "text/html": [
       "<div>\n",
       "<table border=\"1\" class=\"dataframe\">\n",
       "  <thead>\n",
       "    <tr style=\"text-align: right;\">\n",
       "      <th></th>\n",
       "      <th>D</th>\n",
       "      <th>C</th>\n",
       "      <th>B</th>\n",
       "      <th>A</th>\n",
       "    </tr>\n",
       "  </thead>\n",
       "  <tbody>\n",
       "    <tr>\n",
       "      <th>2013-01-01</th>\n",
       "      <td>-0.130367</td>\n",
       "      <td>0.134238</td>\n",
       "      <td>1.267368</td>\n",
       "      <td>0.736452</td>\n",
       "    </tr>\n",
       "    <tr>\n",
       "      <th>2013-01-02</th>\n",
       "      <td>0.064892</td>\n",
       "      <td>-0.338618</td>\n",
       "      <td>0.113362</td>\n",
       "      <td>-0.384739</td>\n",
       "    </tr>\n",
       "    <tr>\n",
       "      <th>2013-01-03</th>\n",
       "      <td>0.534587</td>\n",
       "      <td>0.530861</td>\n",
       "      <td>2.027259</td>\n",
       "      <td>-0.846161</td>\n",
       "    </tr>\n",
       "    <tr>\n",
       "      <th>2013-01-04</th>\n",
       "      <td>1.146014</td>\n",
       "      <td>-0.909681</td>\n",
       "      <td>0.545569</td>\n",
       "      <td>0.367446</td>\n",
       "    </tr>\n",
       "    <tr>\n",
       "      <th>2013-01-05</th>\n",
       "      <td>-0.351160</td>\n",
       "      <td>-1.342635</td>\n",
       "      <td>0.699540</td>\n",
       "      <td>-0.323459</td>\n",
       "    </tr>\n",
       "    <tr>\n",
       "      <th>2013-01-06</th>\n",
       "      <td>0.885765</td>\n",
       "      <td>-0.199023</td>\n",
       "      <td>0.571586</td>\n",
       "      <td>1.098581</td>\n",
       "    </tr>\n",
       "  </tbody>\n",
       "</table>\n",
       "</div>"
      ],
      "text/plain": [
       "                   D         C         B         A\n",
       "2013-01-01 -0.130367  0.134238  1.267368  0.736452\n",
       "2013-01-02  0.064892 -0.338618  0.113362 -0.384739\n",
       "2013-01-03  0.534587  0.530861  2.027259 -0.846161\n",
       "2013-01-04  1.146014 -0.909681  0.545569  0.367446\n",
       "2013-01-05 -0.351160 -1.342635  0.699540 -0.323459\n",
       "2013-01-06  0.885765 -0.199023  0.571586  1.098581"
      ]
     },
     "execution_count": 204,
     "metadata": {},
     "output_type": "execute_result"
    }
   ],
   "source": [
    " df.sort_index(axis=1, ascending=False) #カラム列をソート"
   ]
  },
  {
   "cell_type": "code",
   "execution_count": 205,
   "metadata": {
    "collapsed": false
   },
   "outputs": [
    {
     "data": {
      "text/html": [
       "<div>\n",
       "<table border=\"1\" class=\"dataframe\">\n",
       "  <thead>\n",
       "    <tr style=\"text-align: right;\">\n",
       "      <th></th>\n",
       "      <th>A</th>\n",
       "      <th>B</th>\n",
       "      <th>C</th>\n",
       "      <th>D</th>\n",
       "    </tr>\n",
       "  </thead>\n",
       "  <tbody>\n",
       "    <tr>\n",
       "      <th>2013-01-02</th>\n",
       "      <td>-0.384739</td>\n",
       "      <td>0.113362</td>\n",
       "      <td>-0.338618</td>\n",
       "      <td>0.064892</td>\n",
       "    </tr>\n",
       "    <tr>\n",
       "      <th>2013-01-04</th>\n",
       "      <td>0.367446</td>\n",
       "      <td>0.545569</td>\n",
       "      <td>-0.909681</td>\n",
       "      <td>1.146014</td>\n",
       "    </tr>\n",
       "    <tr>\n",
       "      <th>2013-01-06</th>\n",
       "      <td>1.098581</td>\n",
       "      <td>0.571586</td>\n",
       "      <td>-0.199023</td>\n",
       "      <td>0.885765</td>\n",
       "    </tr>\n",
       "    <tr>\n",
       "      <th>2013-01-05</th>\n",
       "      <td>-0.323459</td>\n",
       "      <td>0.699540</td>\n",
       "      <td>-1.342635</td>\n",
       "      <td>-0.351160</td>\n",
       "    </tr>\n",
       "    <tr>\n",
       "      <th>2013-01-01</th>\n",
       "      <td>0.736452</td>\n",
       "      <td>1.267368</td>\n",
       "      <td>0.134238</td>\n",
       "      <td>-0.130367</td>\n",
       "    </tr>\n",
       "    <tr>\n",
       "      <th>2013-01-03</th>\n",
       "      <td>-0.846161</td>\n",
       "      <td>2.027259</td>\n",
       "      <td>0.530861</td>\n",
       "      <td>0.534587</td>\n",
       "    </tr>\n",
       "  </tbody>\n",
       "</table>\n",
       "</div>"
      ],
      "text/plain": [
       "                   A         B         C         D\n",
       "2013-01-02 -0.384739  0.113362 -0.338618  0.064892\n",
       "2013-01-04  0.367446  0.545569 -0.909681  1.146014\n",
       "2013-01-06  1.098581  0.571586 -0.199023  0.885765\n",
       "2013-01-05 -0.323459  0.699540 -1.342635 -0.351160\n",
       "2013-01-01  0.736452  1.267368  0.134238 -0.130367\n",
       "2013-01-03 -0.846161  2.027259  0.530861  0.534587"
      ]
     },
     "execution_count": 205,
     "metadata": {},
     "output_type": "execute_result"
    }
   ],
   "source": [
    "df.sort_values(by='B')#特定のカラムの値でソート"
   ]
  },
  {
   "cell_type": "code",
   "execution_count": 206,
   "metadata": {
    "collapsed": false
   },
   "outputs": [
    {
     "data": {
      "text/html": [
       "<div>\n",
       "<table border=\"1\" class=\"dataframe\">\n",
       "  <thead>\n",
       "    <tr style=\"text-align: right;\">\n",
       "      <th></th>\n",
       "      <th>A</th>\n",
       "      <th>B</th>\n",
       "      <th>C</th>\n",
       "      <th>D</th>\n",
       "    </tr>\n",
       "  </thead>\n",
       "  <tbody>\n",
       "    <tr>\n",
       "      <th>2013-01-02</th>\n",
       "      <td>-0.384739</td>\n",
       "      <td>0.113362</td>\n",
       "      <td>-0.338618</td>\n",
       "      <td>0.064892</td>\n",
       "    </tr>\n",
       "    <tr>\n",
       "      <th>2013-01-03</th>\n",
       "      <td>-0.846161</td>\n",
       "      <td>2.027259</td>\n",
       "      <td>0.530861</td>\n",
       "      <td>0.534587</td>\n",
       "    </tr>\n",
       "    <tr>\n",
       "      <th>2013-01-04</th>\n",
       "      <td>0.367446</td>\n",
       "      <td>0.545569</td>\n",
       "      <td>-0.909681</td>\n",
       "      <td>1.146014</td>\n",
       "    </tr>\n",
       "  </tbody>\n",
       "</table>\n",
       "</div>"
      ],
      "text/plain": [
       "                   A         B         C         D\n",
       "2013-01-02 -0.384739  0.113362 -0.338618  0.064892\n",
       "2013-01-03 -0.846161  2.027259  0.530861  0.534587\n",
       "2013-01-04  0.367446  0.545569 -0.909681  1.146014"
      ]
     },
     "execution_count": 206,
     "metadata": {},
     "output_type": "execute_result"
    }
   ],
   "source": [
    " df['20130102':'20130104']"
   ]
  },
  {
   "cell_type": "code",
   "execution_count": 207,
   "metadata": {
    "collapsed": false
   },
   "outputs": [
    {
     "data": {
      "text/html": [
       "<div>\n",
       "<table border=\"1\" class=\"dataframe\">\n",
       "  <thead>\n",
       "    <tr style=\"text-align: right;\">\n",
       "      <th></th>\n",
       "      <th>A</th>\n",
       "      <th>B</th>\n",
       "    </tr>\n",
       "  </thead>\n",
       "  <tbody>\n",
       "    <tr>\n",
       "      <th>2013-01-01</th>\n",
       "      <td>0.736452</td>\n",
       "      <td>1.267368</td>\n",
       "    </tr>\n",
       "    <tr>\n",
       "      <th>2013-01-02</th>\n",
       "      <td>-0.384739</td>\n",
       "      <td>0.113362</td>\n",
       "    </tr>\n",
       "    <tr>\n",
       "      <th>2013-01-03</th>\n",
       "      <td>-0.846161</td>\n",
       "      <td>2.027259</td>\n",
       "    </tr>\n",
       "    <tr>\n",
       "      <th>2013-01-04</th>\n",
       "      <td>0.367446</td>\n",
       "      <td>0.545569</td>\n",
       "    </tr>\n",
       "    <tr>\n",
       "      <th>2013-01-05</th>\n",
       "      <td>-0.323459</td>\n",
       "      <td>0.699540</td>\n",
       "    </tr>\n",
       "    <tr>\n",
       "      <th>2013-01-06</th>\n",
       "      <td>1.098581</td>\n",
       "      <td>0.571586</td>\n",
       "    </tr>\n",
       "  </tbody>\n",
       "</table>\n",
       "</div>"
      ],
      "text/plain": [
       "                   A         B\n",
       "2013-01-01  0.736452  1.267368\n",
       "2013-01-02 -0.384739  0.113362\n",
       "2013-01-03 -0.846161  2.027259\n",
       "2013-01-04  0.367446  0.545569\n",
       "2013-01-05 -0.323459  0.699540\n",
       "2013-01-06  1.098581  0.571586"
      ]
     },
     "execution_count": 207,
     "metadata": {},
     "output_type": "execute_result"
    }
   ],
   "source": [
    "df.loc[:,['A','B']]"
   ]
  },
  {
   "cell_type": "code",
   "execution_count": 208,
   "metadata": {
    "collapsed": false
   },
   "outputs": [
    {
     "data": {
      "text/html": [
       "<div>\n",
       "<table border=\"1\" class=\"dataframe\">\n",
       "  <thead>\n",
       "    <tr style=\"text-align: right;\">\n",
       "      <th></th>\n",
       "      <th>A</th>\n",
       "      <th>B</th>\n",
       "    </tr>\n",
       "  </thead>\n",
       "  <tbody>\n",
       "    <tr>\n",
       "      <th>2013-01-02</th>\n",
       "      <td>-0.384739</td>\n",
       "      <td>0.113362</td>\n",
       "    </tr>\n",
       "    <tr>\n",
       "      <th>2013-01-03</th>\n",
       "      <td>-0.846161</td>\n",
       "      <td>2.027259</td>\n",
       "    </tr>\n",
       "    <tr>\n",
       "      <th>2013-01-04</th>\n",
       "      <td>0.367446</td>\n",
       "      <td>0.545569</td>\n",
       "    </tr>\n",
       "  </tbody>\n",
       "</table>\n",
       "</div>"
      ],
      "text/plain": [
       "                   A         B\n",
       "2013-01-02 -0.384739  0.113362\n",
       "2013-01-03 -0.846161  2.027259\n",
       "2013-01-04  0.367446  0.545569"
      ]
     },
     "execution_count": 208,
     "metadata": {},
     "output_type": "execute_result"
    }
   ],
   "source": [
    "df.loc['20130102':'20130104',['A','B']]"
   ]
  },
  {
   "cell_type": "code",
   "execution_count": 209,
   "metadata": {
    "collapsed": false
   },
   "outputs": [
    {
     "data": {
      "text/html": [
       "<div>\n",
       "<table border=\"1\" class=\"dataframe\">\n",
       "  <thead>\n",
       "    <tr style=\"text-align: right;\">\n",
       "      <th></th>\n",
       "      <th>A</th>\n",
       "      <th>B</th>\n",
       "      <th>C</th>\n",
       "      <th>D</th>\n",
       "    </tr>\n",
       "  </thead>\n",
       "  <tbody>\n",
       "    <tr>\n",
       "      <th>2013-01-01</th>\n",
       "      <td>0.736452</td>\n",
       "      <td>1.267368</td>\n",
       "      <td>0.134238</td>\n",
       "      <td>-0.130367</td>\n",
       "    </tr>\n",
       "    <tr>\n",
       "      <th>2013-01-02</th>\n",
       "      <td>-0.384739</td>\n",
       "      <td>0.113362</td>\n",
       "      <td>-0.338618</td>\n",
       "      <td>0.064892</td>\n",
       "    </tr>\n",
       "    <tr>\n",
       "      <th>2013-01-03</th>\n",
       "      <td>-0.846161</td>\n",
       "      <td>2.027259</td>\n",
       "      <td>0.530861</td>\n",
       "      <td>0.534587</td>\n",
       "    </tr>\n",
       "    <tr>\n",
       "      <th>2013-01-04</th>\n",
       "      <td>0.367446</td>\n",
       "      <td>0.545569</td>\n",
       "      <td>-0.909681</td>\n",
       "      <td>1.146014</td>\n",
       "    </tr>\n",
       "    <tr>\n",
       "      <th>2013-01-05</th>\n",
       "      <td>-0.323459</td>\n",
       "      <td>0.699540</td>\n",
       "      <td>-1.342635</td>\n",
       "      <td>-0.351160</td>\n",
       "    </tr>\n",
       "    <tr>\n",
       "      <th>2013-01-06</th>\n",
       "      <td>1.098581</td>\n",
       "      <td>0.571586</td>\n",
       "      <td>-0.199023</td>\n",
       "      <td>0.885765</td>\n",
       "    </tr>\n",
       "  </tbody>\n",
       "</table>\n",
       "</div>"
      ],
      "text/plain": [
       "                   A         B         C         D\n",
       "2013-01-01  0.736452  1.267368  0.134238 -0.130367\n",
       "2013-01-02 -0.384739  0.113362 -0.338618  0.064892\n",
       "2013-01-03 -0.846161  2.027259  0.530861  0.534587\n",
       "2013-01-04  0.367446  0.545569 -0.909681  1.146014\n",
       "2013-01-05 -0.323459  0.699540 -1.342635 -0.351160\n",
       "2013-01-06  1.098581  0.571586 -0.199023  0.885765"
      ]
     },
     "execution_count": 209,
     "metadata": {},
     "output_type": "execute_result"
    }
   ],
   "source": [
    "#ilocメソッド#Selection by Label\n",
    "df\n",
    "#locメソッド# Selection by Position"
   ]
  },
  {
   "cell_type": "code",
   "execution_count": 210,
   "metadata": {
    "collapsed": false
   },
   "outputs": [
    {
     "data": {
      "text/html": [
       "<div>\n",
       "<table border=\"1\" class=\"dataframe\">\n",
       "  <thead>\n",
       "    <tr style=\"text-align: right;\">\n",
       "      <th></th>\n",
       "      <th>A</th>\n",
       "      <th>B</th>\n",
       "      <th>C</th>\n",
       "      <th>D</th>\n",
       "    </tr>\n",
       "  </thead>\n",
       "  <tbody>\n",
       "    <tr>\n",
       "      <th>2013-01-02</th>\n",
       "      <td>-0.384739</td>\n",
       "      <td>0.113362</td>\n",
       "      <td>-0.338618</td>\n",
       "      <td>0.064892</td>\n",
       "    </tr>\n",
       "    <tr>\n",
       "      <th>2013-01-03</th>\n",
       "      <td>-0.846161</td>\n",
       "      <td>2.027259</td>\n",
       "      <td>0.530861</td>\n",
       "      <td>0.534587</td>\n",
       "    </tr>\n",
       "  </tbody>\n",
       "</table>\n",
       "</div>"
      ],
      "text/plain": [
       "                   A         B         C         D\n",
       "2013-01-02 -0.384739  0.113362 -0.338618  0.064892\n",
       "2013-01-03 -0.846161  2.027259  0.530861  0.534587"
      ]
     },
     "execution_count": 210,
     "metadata": {},
     "output_type": "execute_result"
    }
   ],
   "source": [
    "#df.iloc[3:5,0:2]\n",
    "#df.iloc[[1,2,4],[0,2]]\n",
    "df.iloc[1:3,:]"
   ]
  },
  {
   "cell_type": "code",
   "execution_count": 211,
   "metadata": {
    "collapsed": false
   },
   "outputs": [
    {
     "data": {
      "text/html": [
       "<div>\n",
       "<table border=\"1\" class=\"dataframe\">\n",
       "  <thead>\n",
       "    <tr style=\"text-align: right;\">\n",
       "      <th></th>\n",
       "      <th>A</th>\n",
       "      <th>B</th>\n",
       "      <th>C</th>\n",
       "      <th>D</th>\n",
       "    </tr>\n",
       "  </thead>\n",
       "  <tbody>\n",
       "    <tr>\n",
       "      <th>2013-01-01</th>\n",
       "      <td>0.736452</td>\n",
       "      <td>1.267368</td>\n",
       "      <td>0.134238</td>\n",
       "      <td>-0.130367</td>\n",
       "    </tr>\n",
       "    <tr>\n",
       "      <th>2013-01-04</th>\n",
       "      <td>0.367446</td>\n",
       "      <td>0.545569</td>\n",
       "      <td>-0.909681</td>\n",
       "      <td>1.146014</td>\n",
       "    </tr>\n",
       "    <tr>\n",
       "      <th>2013-01-06</th>\n",
       "      <td>1.098581</td>\n",
       "      <td>0.571586</td>\n",
       "      <td>-0.199023</td>\n",
       "      <td>0.885765</td>\n",
       "    </tr>\n",
       "  </tbody>\n",
       "</table>\n",
       "</div>"
      ],
      "text/plain": [
       "                   A         B         C         D\n",
       "2013-01-01  0.736452  1.267368  0.134238 -0.130367\n",
       "2013-01-04  0.367446  0.545569 -0.909681  1.146014\n",
       "2013-01-06  1.098581  0.571586 -0.199023  0.885765"
      ]
     },
     "execution_count": 211,
     "metadata": {},
     "output_type": "execute_result"
    }
   ],
   "source": [
    "#Boolean Indexing\n",
    "df[df.A > 0]"
   ]
  },
  {
   "cell_type": "code",
   "execution_count": 212,
   "metadata": {
    "collapsed": false
   },
   "outputs": [
    {
     "data": {
      "text/html": [
       "<div>\n",
       "<table border=\"1\" class=\"dataframe\">\n",
       "  <thead>\n",
       "    <tr style=\"text-align: right;\">\n",
       "      <th></th>\n",
       "      <th>A</th>\n",
       "      <th>B</th>\n",
       "      <th>C</th>\n",
       "      <th>D</th>\n",
       "    </tr>\n",
       "  </thead>\n",
       "  <tbody>\n",
       "    <tr>\n",
       "      <th>2013-01-01</th>\n",
       "      <td>0.736452</td>\n",
       "      <td>1.267368</td>\n",
       "      <td>0.134238</td>\n",
       "      <td>NaN</td>\n",
       "    </tr>\n",
       "    <tr>\n",
       "      <th>2013-01-02</th>\n",
       "      <td>NaN</td>\n",
       "      <td>0.113362</td>\n",
       "      <td>NaN</td>\n",
       "      <td>0.064892</td>\n",
       "    </tr>\n",
       "    <tr>\n",
       "      <th>2013-01-03</th>\n",
       "      <td>NaN</td>\n",
       "      <td>2.027259</td>\n",
       "      <td>0.530861</td>\n",
       "      <td>0.534587</td>\n",
       "    </tr>\n",
       "    <tr>\n",
       "      <th>2013-01-04</th>\n",
       "      <td>0.367446</td>\n",
       "      <td>0.545569</td>\n",
       "      <td>NaN</td>\n",
       "      <td>1.146014</td>\n",
       "    </tr>\n",
       "    <tr>\n",
       "      <th>2013-01-05</th>\n",
       "      <td>NaN</td>\n",
       "      <td>0.699540</td>\n",
       "      <td>NaN</td>\n",
       "      <td>NaN</td>\n",
       "    </tr>\n",
       "    <tr>\n",
       "      <th>2013-01-06</th>\n",
       "      <td>1.098581</td>\n",
       "      <td>0.571586</td>\n",
       "      <td>NaN</td>\n",
       "      <td>0.885765</td>\n",
       "    </tr>\n",
       "  </tbody>\n",
       "</table>\n",
       "</div>"
      ],
      "text/plain": [
       "                   A         B         C         D\n",
       "2013-01-01  0.736452  1.267368  0.134238       NaN\n",
       "2013-01-02       NaN  0.113362       NaN  0.064892\n",
       "2013-01-03       NaN  2.027259  0.530861  0.534587\n",
       "2013-01-04  0.367446  0.545569       NaN  1.146014\n",
       "2013-01-05       NaN  0.699540       NaN       NaN\n",
       "2013-01-06  1.098581  0.571586       NaN  0.885765"
      ]
     },
     "execution_count": 212,
     "metadata": {},
     "output_type": "execute_result"
    }
   ],
   "source": [
    "df[df > 0]"
   ]
  },
  {
   "cell_type": "code",
   "execution_count": 213,
   "metadata": {
    "collapsed": false,
    "scrolled": true
   },
   "outputs": [
    {
     "data": {
      "text/html": [
       "<div>\n",
       "<table border=\"1\" class=\"dataframe\">\n",
       "  <thead>\n",
       "    <tr style=\"text-align: right;\">\n",
       "      <th></th>\n",
       "      <th>A</th>\n",
       "      <th>B</th>\n",
       "      <th>C</th>\n",
       "      <th>D</th>\n",
       "      <th>E</th>\n",
       "    </tr>\n",
       "  </thead>\n",
       "  <tbody>\n",
       "    <tr>\n",
       "      <th>2013-01-03</th>\n",
       "      <td>-0.846161</td>\n",
       "      <td>2.027259</td>\n",
       "      <td>0.530861</td>\n",
       "      <td>0.534587</td>\n",
       "      <td>two</td>\n",
       "    </tr>\n",
       "    <tr>\n",
       "      <th>2013-01-05</th>\n",
       "      <td>-0.323459</td>\n",
       "      <td>0.699540</td>\n",
       "      <td>-1.342635</td>\n",
       "      <td>-0.351160</td>\n",
       "      <td>four</td>\n",
       "    </tr>\n",
       "  </tbody>\n",
       "</table>\n",
       "</div>"
      ],
      "text/plain": [
       "                   A         B         C         D     E\n",
       "2013-01-03 -0.846161  2.027259  0.530861  0.534587   two\n",
       "2013-01-05 -0.323459  0.699540 -1.342635 -0.351160  four"
      ]
     },
     "execution_count": 213,
     "metadata": {},
     "output_type": "execute_result"
    }
   ],
   "source": [
    "df2 = df.copy()\n",
    "df2['E'] = ['one', 'one','two','three','four','three']\n",
    "df2\n",
    "#df2[df2['E'].isin(['two','four'])]\n",
    "df2[df2.E.isin(['two','four'])]"
   ]
  },
  {
   "cell_type": "code",
   "execution_count": 214,
   "metadata": {
    "collapsed": false
   },
   "outputs": [
    {
     "data": {
      "text/html": [
       "<div>\n",
       "<table border=\"1\" class=\"dataframe\">\n",
       "  <thead>\n",
       "    <tr style=\"text-align: right;\">\n",
       "      <th></th>\n",
       "      <th>dates</th>\n",
       "      <th>hour</th>\n",
       "      <th>open</th>\n",
       "      <th>high</th>\n",
       "      <th>low</th>\n",
       "      <th>close</th>\n",
       "      <th>volume</th>\n",
       "    </tr>\n",
       "  </thead>\n",
       "  <tbody>\n",
       "    <tr>\n",
       "      <th>0</th>\n",
       "      <td>2016-01-04</td>\n",
       "      <td>16:30</td>\n",
       "      <td>19010</td>\n",
       "      <td>19015</td>\n",
       "      <td>19005</td>\n",
       "      <td>19015</td>\n",
       "      <td>1766</td>\n",
       "    </tr>\n",
       "    <tr>\n",
       "      <th>1</th>\n",
       "      <td>2016-01-04</td>\n",
       "      <td>16:31</td>\n",
       "      <td>19015</td>\n",
       "      <td>19015</td>\n",
       "      <td>19005</td>\n",
       "      <td>19010</td>\n",
       "      <td>587</td>\n",
       "    </tr>\n",
       "    <tr>\n",
       "      <th>2</th>\n",
       "      <td>2016-01-04</td>\n",
       "      <td>16:32</td>\n",
       "      <td>19015</td>\n",
       "      <td>19015</td>\n",
       "      <td>19010</td>\n",
       "      <td>19015</td>\n",
       "      <td>69</td>\n",
       "    </tr>\n",
       "    <tr>\n",
       "      <th>3</th>\n",
       "      <td>2016-01-04</td>\n",
       "      <td>16:33</td>\n",
       "      <td>19015</td>\n",
       "      <td>19015</td>\n",
       "      <td>19010</td>\n",
       "      <td>19010</td>\n",
       "      <td>37</td>\n",
       "    </tr>\n",
       "    <tr>\n",
       "      <th>4</th>\n",
       "      <td>2016-01-04</td>\n",
       "      <td>16:34</td>\n",
       "      <td>19010</td>\n",
       "      <td>19025</td>\n",
       "      <td>19010</td>\n",
       "      <td>19025</td>\n",
       "      <td>569</td>\n",
       "    </tr>\n",
       "  </tbody>\n",
       "</table>\n",
       "</div>"
      ],
      "text/plain": [
       "        dates   hour   open   high    low  close  volume\n",
       "0  2016-01-04  16:30  19010  19015  19005  19015    1766\n",
       "1  2016-01-04  16:31  19015  19015  19005  19010     587\n",
       "2  2016-01-04  16:32  19015  19015  19010  19015      69\n",
       "3  2016-01-04  16:33  19015  19015  19010  19010      37\n",
       "4  2016-01-04  16:34  19010  19025  19010  19025     569"
      ]
     },
     "execution_count": 214,
     "metadata": {},
     "output_type": "execute_result"
    }
   ],
   "source": [
    "#df1 = pd.read_csv('./pandas_date_ex/example1.csv', index_col='Date', parse_dates='Date')\n",
    "#d = pd.read_csv('../tmp/renew_2016.csv' ,index_col='Date', parse_dates='Date')\n",
    "#d = pd.read_csv('../tmp/renew_2016.csv' , index_col=0)\n",
    "d = pd.read_csv('../tmp/renew_2016.csv' )\n",
    "d.head(5)"
   ]
  },
  {
   "cell_type": "code",
   "execution_count": 215,
   "metadata": {
    "collapsed": false
   },
   "outputs": [],
   "source": [
    "nikkei_index = d.dates.values"
   ]
  },
  {
   "cell_type": "code",
   "execution_count": 216,
   "metadata": {
    "collapsed": false
   },
   "outputs": [
    {
     "data": {
      "text/html": [
       "<div>\n",
       "<table border=\"1\" class=\"dataframe\">\n",
       "  <thead>\n",
       "    <tr style=\"text-align: right;\">\n",
       "      <th></th>\n",
       "      <th>dates</th>\n",
       "      <th>hour</th>\n",
       "      <th>open</th>\n",
       "      <th>high</th>\n",
       "      <th>low</th>\n",
       "      <th>close</th>\n",
       "      <th>volume</th>\n",
       "    </tr>\n",
       "  </thead>\n",
       "  <tbody>\n",
       "    <tr>\n",
       "      <th>0</th>\n",
       "      <td>2016-01-04</td>\n",
       "      <td>16:30</td>\n",
       "      <td>19010</td>\n",
       "      <td>19015</td>\n",
       "      <td>19005</td>\n",
       "      <td>19015</td>\n",
       "      <td>1766</td>\n",
       "    </tr>\n",
       "    <tr>\n",
       "      <th>1</th>\n",
       "      <td>2016-01-04</td>\n",
       "      <td>16:31</td>\n",
       "      <td>19015</td>\n",
       "      <td>19015</td>\n",
       "      <td>19005</td>\n",
       "      <td>19010</td>\n",
       "      <td>587</td>\n",
       "    </tr>\n",
       "  </tbody>\n",
       "</table>\n",
       "</div>"
      ],
      "text/plain": [
       "        dates   hour   open   high    low  close  volume\n",
       "0  2016-01-04  16:30  19010  19015  19005  19015    1766\n",
       "1  2016-01-04  16:31  19015  19015  19005  19010     587"
      ]
     },
     "execution_count": 216,
     "metadata": {},
     "output_type": "execute_result"
    }
   ],
   "source": [
    "d.head(2)"
   ]
  },
  {
   "cell_type": "code",
   "execution_count": 217,
   "metadata": {
    "collapsed": false
   },
   "outputs": [
    {
     "data": {
      "text/html": [
       "<div>\n",
       "<table border=\"1\" class=\"dataframe\">\n",
       "  <thead>\n",
       "    <tr style=\"text-align: right;\">\n",
       "      <th></th>\n",
       "      <th>hour</th>\n",
       "      <th>open</th>\n",
       "      <th>high</th>\n",
       "      <th>low</th>\n",
       "      <th>close</th>\n",
       "    </tr>\n",
       "  </thead>\n",
       "  <tbody>\n",
       "    <tr>\n",
       "      <th>0</th>\n",
       "      <td>16:30</td>\n",
       "      <td>19010</td>\n",
       "      <td>19015</td>\n",
       "      <td>19005</td>\n",
       "      <td>19015</td>\n",
       "    </tr>\n",
       "  </tbody>\n",
       "</table>\n",
       "</div>"
      ],
      "text/plain": [
       "    hour   open   high    low  close\n",
       "0  16:30  19010  19015  19005  19015"
      ]
     },
     "execution_count": 217,
     "metadata": {},
     "output_type": "execute_result"
    }
   ],
   "source": [
    "minutes = d.iloc[:,1:6]\n",
    "minutes.head(1)"
   ]
  },
  {
   "cell_type": "code",
   "execution_count": 218,
   "metadata": {
    "collapsed": false
   },
   "outputs": [
    {
     "data": {
      "text/html": [
       "<div>\n",
       "<table border=\"1\" class=\"dataframe\">\n",
       "  <thead>\n",
       "    <tr style=\"text-align: right;\">\n",
       "      <th></th>\n",
       "      <th>hour</th>\n",
       "      <th>open</th>\n",
       "      <th>high</th>\n",
       "      <th>low</th>\n",
       "      <th>close</th>\n",
       "    </tr>\n",
       "  </thead>\n",
       "  <tbody>\n",
       "    <tr>\n",
       "      <th>2016-01-04</th>\n",
       "      <td>16:30</td>\n",
       "      <td>19010</td>\n",
       "      <td>19015</td>\n",
       "      <td>19005</td>\n",
       "      <td>19015</td>\n",
       "    </tr>\n",
       "    <tr>\n",
       "      <th>2016-01-04</th>\n",
       "      <td>16:31</td>\n",
       "      <td>19015</td>\n",
       "      <td>19015</td>\n",
       "      <td>19005</td>\n",
       "      <td>19010</td>\n",
       "    </tr>\n",
       "    <tr>\n",
       "      <th>2016-01-04</th>\n",
       "      <td>16:32</td>\n",
       "      <td>19015</td>\n",
       "      <td>19015</td>\n",
       "      <td>19010</td>\n",
       "      <td>19015</td>\n",
       "    </tr>\n",
       "  </tbody>\n",
       "</table>\n",
       "</div>"
      ],
      "text/plain": [
       "             hour   open   high    low  close\n",
       "2016-01-04  16:30  19010  19015  19005  19015\n",
       "2016-01-04  16:31  19015  19015  19005  19010\n",
       "2016-01-04  16:32  19015  19015  19010  19015"
      ]
     },
     "execution_count": 218,
     "metadata": {},
     "output_type": "execute_result"
    }
   ],
   "source": [
    "nikkei_2016 = pd.DataFrame(np.array(minutes)\n",
    "                                       ,index=nikkei_index\n",
    "                                       ,columns=['hour', 'open','high','low','close'])\n",
    "nikkei_2016.head(3)"
   ]
  },
  {
   "cell_type": "code",
   "execution_count": 219,
   "metadata": {
    "collapsed": false
   },
   "outputs": [
    {
     "data": {
      "text/html": [
       "<div>\n",
       "<table border=\"1\" class=\"dataframe\">\n",
       "  <thead>\n",
       "    <tr style=\"text-align: right;\">\n",
       "      <th></th>\n",
       "      <th>hour</th>\n",
       "      <th>open</th>\n",
       "      <th>high</th>\n",
       "      <th>low</th>\n",
       "      <th>close</th>\n",
       "    </tr>\n",
       "  </thead>\n",
       "  <tbody>\n",
       "    <tr>\n",
       "      <th>2016-12-26</th>\n",
       "      <td>05:28</td>\n",
       "      <td>19340</td>\n",
       "      <td>19340</td>\n",
       "      <td>19340</td>\n",
       "      <td>19340</td>\n",
       "    </tr>\n",
       "    <tr>\n",
       "      <th>2016-12-26</th>\n",
       "      <td>05:29</td>\n",
       "      <td>19340</td>\n",
       "      <td>19340</td>\n",
       "      <td>19340</td>\n",
       "      <td>19340</td>\n",
       "    </tr>\n",
       "    <tr>\n",
       "      <th>2016-12-26</th>\n",
       "      <td>05:30</td>\n",
       "      <td>19355</td>\n",
       "      <td>19355</td>\n",
       "      <td>19355</td>\n",
       "      <td>19355</td>\n",
       "    </tr>\n",
       "  </tbody>\n",
       "</table>\n",
       "</div>"
      ],
      "text/plain": [
       "             hour   open   high    low  close\n",
       "2016-12-26  05:28  19340  19340  19340  19340\n",
       "2016-12-26  05:29  19340  19340  19340  19340\n",
       "2016-12-26  05:30  19355  19355  19355  19355"
      ]
     },
     "execution_count": 219,
     "metadata": {},
     "output_type": "execute_result"
    }
   ],
   "source": [
    "nikkei_2016.tail(3)"
   ]
  },
  {
   "cell_type": "code",
   "execution_count": 220,
   "metadata": {
    "collapsed": true
   },
   "outputs": [],
   "source": [
    "tmp_nikkei_2016 = nikkei_2016.copy()"
   ]
  },
  {
   "cell_type": "code",
   "execution_count": 237,
   "metadata": {
    "collapsed": false
   },
   "outputs": [],
   "source": [
    "def updown(price) :\n",
    "    if price.all() > 0 :\n",
    "        return 'up'\n",
    "    elif price.all() == 0 :\n",
    "        return 'even'\n",
    "    elif price.all() < 0 : \n",
    "        return 'down'"
   ]
  },
  {
   "cell_type": "code",
   "execution_count": 242,
   "metadata": {
    "collapsed": false
   },
   "outputs": [
    {
     "data": {
      "text/plain": [
       "array([60, -10, 10, 110, 20, 135, 5, -80, -20, 80, -15, 85, 15, 90, -75,\n",
       "       15, -25, -10, -100, 0, -45, 30, -45, 90, -5, -35, -5, 140, 90, -10,\n",
       "       75, -55, -15, 15, -40, 40, 30, -65, 125, -15, -10, -35, 0, -35, -25,\n",
       "       20, 0, -45, -30, 15, 45, -20, 80, -5, 60, 35, 0, 0, -15, -60, 5,\n",
       "       -20, 55, -5, -15, 0, -10, 20, 0, -45, -10, 55, -40, 20, 35, -55,\n",
       "       -15, -10, 40, 45, 145, -5, 20, 5, 5, -10, -70, 55, -70, -50, 50, 15,\n",
       "       -5, 0, 5, -5, -25, 20, 0, 10, -20, -40, -25, 15, -45, -25, 25, 15,\n",
       "       15, 30, -15, 5, 20, -10, -40, 30, 20, -90, -85, 5, -30, 70, -20,\n",
       "       -15, 40, 65, -15, -35, -20, -85, -25, -20, -75, 0, -25, -20, -35,\n",
       "       -10, 35, -45, 55, -70, 25, 15, 25, 45, 15, 20, 20, -70, -15, -25,\n",
       "       -15, -10, -25, 5, 5, -30, 25, 30, -45, 20, 0, 5, -25, -20, -5, 5,\n",
       "       25, 25, -20, -10, 5, -5, 5, 40, 30, -60, 40, -10, -15, -25, -20, 45,\n",
       "       -5, -20, -5, -5, -35, 15, -40, -35, 10, 15, 10, 5, 45, -25, -20, -5,\n",
       "       25, -10, -10, -20, 0, 25, 0, -40, -30, 20, 35, -15, 15, 20, 0, -10,\n",
       "       15, 10, -15, -30, 20, 25, 30, -75, 40, 95, 10, -35, 0, -25, -10,\n",
       "       -70, 25, 30, -45, 0, -15, -35, -15, 15], dtype=object)"
      ]
     },
     "execution_count": 242,
     "metadata": {},
     "output_type": "execute_result"
    }
   ],
   "source": [
    "# 15:00 - 15:15 のボラを日付別に出したい\n",
    "open_15 = tmp_nikkei_2016[tmp_nikkei_2016.hour == '15:00'].open\n",
    "close_15 = tmp_nikkei_2016[tmp_nikkei_2016.hour == '15:15'].close\n",
    "difference = open_15 - close_15\n",
    "#difference.values[0]\n",
    "#updown(difference.values)\n",
    "difference.values.map(lambda x: x > 0:)\n",
    "#difference.values > 0\n",
    "#difference.values == 0\n",
    "#difference.values < 0"
   ]
  },
  {
   "cell_type": "code",
   "execution_count": 222,
   "metadata": {
    "collapsed": false
   },
   "outputs": [
    {
     "data": {
      "text/plain": [
       "'2016-01-04'"
      ]
     },
     "execution_count": 222,
     "metadata": {},
     "output_type": "execute_result"
    }
   ],
   "source": [
    "dates = tmp_nikkei_2016.groupby(tmp_nikkei_2016.index).size().index.values\n",
    "dates[0]"
   ]
  }
 ],
 "metadata": {
  "anaconda-cloud": {},
  "kernelspec": {
   "display_name": "Python [conda root]",
   "language": "python",
   "name": "conda-root-py"
  },
  "language_info": {
   "codemirror_mode": {
    "name": "ipython",
    "version": 3
   },
   "file_extension": ".py",
   "mimetype": "text/x-python",
   "name": "python",
   "nbconvert_exporter": "python",
   "pygments_lexer": "ipython3",
   "version": "3.5.2"
  }
 },
 "nbformat": 4,
 "nbformat_minor": 2
}
